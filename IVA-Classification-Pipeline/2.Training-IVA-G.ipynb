{
 "cells": [
  {
   "cell_type": "code",
   "execution_count": null,
   "id": "3f52f12d",
   "metadata": {},
   "outputs": [],
   "source": [
    "from sklearn.model_selection import GridSearchCV\n",
    "import timeit # for timing functions\n",
    "import time # for getting time related data\n",
    "import numpy as np\n",
    "import scipy.io as sio\n",
    "from sklearn.svm import SVC\n",
    "import pandas as pd\n",
    "from sklearn.metrics import make_scorer, accuracy_score, precision_score, recall_score, f1_score\n",
    "from sklearn.model_selection import StratifiedKFold"
   ]
  },
  {
   "cell_type": "code",
   "execution_count": null,
   "id": "5b9ec7b9",
   "metadata": {},
   "outputs": [],
   "source": [
    "X = pd.read_csv('pca_train_txt.csv', header=None)\n",
    "Y = pd.read_csv('pca_train_img_vgg.csv', header=None)\n",
    "train_labels = np.load('train_labels.npy',allow_pickle=True)"
   ]
  },
  {
   "cell_type": "code",
   "execution_count": null,
   "id": "bedebdc6",
   "metadata": {},
   "outputs": [],
   "source": [
    "X_test = np.load('pca_test_txt.npy',allow_pickle=True)\n",
    "Y_test = np.load('pca_test_img_vgg.npy',allow_pickle=True)\n",
    "test_labels = np.load('test_labels.npy',allow_pickle=True)"
   ]
  },
  {
   "cell_type": "code",
   "execution_count": null,
   "id": "848241b3",
   "metadata": {},
   "outputs": [],
   "source": [
    "# Loanding W\n",
    "IVA_M_EMK = sio.loadmat('W_IVA_G.mat')\n",
    "W_IVA_M_EMK = IVA_M_EMK['W_IVA_G']"
   ]
  },
  {
   "cell_type": "code",
   "execution_count": null,
   "id": "ecf5b619",
   "metadata": {},
   "outputs": [],
   "source": [
    "# Split W into two matrix to get a W1 for X and a W2  for Y.\n",
    "W1_IVA_M_EMK, W2_IVA_M_EMK = np.split(W_IVA_M_EMK, 2, axis = 2)\n",
    "W1_IVA_M_EMK = np.squeeze(W1_IVA_M_EMK, axis = 2)\n",
    "W2_IVA_M_EMK = np.squeeze(W2_IVA_M_EMK, axis = 2)"
   ]
  },
  {
   "cell_type": "code",
   "execution_count": null,
   "id": "82308752",
   "metadata": {},
   "outputs": [],
   "source": [
    "# Generate S1 and S2\n",
    "\n",
    "S1_tr = W1_IVA_M_EMK @ np.transpose(X) #Text Components\n",
    "S2_tr = W2_IVA_M_EMK @ np.transpose(Y) #Image Components\n",
    "\n",
    "S1_test = W1_IVA_M_EMK @ np.transpose(X_test) #Text Components\n",
    "S2_test = W2_IVA_M_EMK @ np.transpose(Y_test) #Image Components"
   ]
  },
  {
   "cell_type": "code",
   "execution_count": null,
   "id": "4c5f273b",
   "metadata": {},
   "outputs": [],
   "source": [
    "# Data Fusion - Averaging\n",
    "df_IVA_M_EMK = (S1_tr.T + S2_tr.T)/2\n",
    "\n",
    "df_test_IVA_M_EMK = (S1_test.T + S2_test.T)/2"
   ]
  },
  {
   "cell_type": "code",
   "execution_count": null,
   "id": "5d5ff50e",
   "metadata": {},
   "outputs": [],
   "source": [
    "# SVC hyperparams to optimize\n",
    "\n",
    "parameters = {'C':[0.001,0.01, 0.1, 1,10],\n",
    "                'kernel':['rbf', 'poly', 'sigmoid']}\n",
    "\n",
    "scoring = {'accuracy': make_scorer(accuracy_score),\n",
    "           'precision': make_scorer(precision_score, average = 'binary'),\n",
    "           'recall': make_scorer(recall_score, average = 'binary'),\n",
    "           'f1': make_scorer(f1_score, average = 'binary')}"
   ]
  },
  {
   "cell_type": "code",
   "execution_count": null,
   "id": "3d6bae3c",
   "metadata": {},
   "outputs": [],
   "source": [
    "# CV\n",
    "cv = StratifiedKFold(n_splits=5, shuffle=True)\n",
    "svm = SVC(gamma='scale',random_state=1)\n",
    "svm_GS = GridSearchCV(svm, param_grid = parameters, scoring = scoring, refit='f1', cv=cv)\n",
    "svm_GS.fit(df_IVA_M_EMK,train_labels)"
   ]
  },
  {
   "cell_type": "code",
   "execution_count": null,
   "id": "be634cc3",
   "metadata": {},
   "outputs": [],
   "source": [
    "pred_svm = svm_GS.predict(df_test_IVA_M_EMK)"
   ]
  },
  {
   "cell_type": "code",
   "execution_count": null,
   "id": "41fe9997",
   "metadata": {},
   "outputs": [],
   "source": [
    "iva_clc_rpt = classification_report(test_labels, pred_svm, target_names=['Real', 'Fake'], digits=4)\n",
    "iva_clc_rpt"
   ]
  }
 ],
 "metadata": {
  "kernelspec": {
   "display_name": "Python 3 (ipykernel)",
   "language": "python",
   "name": "python3"
  },
  "language_info": {
   "codemirror_mode": {
    "name": "ipython",
    "version": 3
   },
   "file_extension": ".py",
   "mimetype": "text/x-python",
   "name": "python",
   "nbconvert_exporter": "python",
   "pygments_lexer": "ipython3",
   "version": "3.9.13"
  }
 },
 "nbformat": 4,
 "nbformat_minor": 5
}
